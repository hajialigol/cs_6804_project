{
 "cells": [
  {
   "cell_type": "code",
   "execution_count": 1,
   "id": "e65a7b0f",
   "metadata": {},
   "outputs": [],
   "source": [
    "import os\n",
    "import pandas as pd\n",
    "from sklearn.model_selection import train_test_split\n",
    "from cs_6804_project.src.torch_cloudnet.model import CloudNet\n",
    "from cs_6804_project.src.keras_cloudnet.utils import get_input_image_names"
   ]
  },
  {
   "cell_type": "code",
   "execution_count": 2,
   "id": "1c61b5de",
   "metadata": {},
   "outputs": [
    {
     "name": "stderr",
     "output_type": "stream",
     "text": [
      "100%|██████████████████████████████████████████████████████████████████████████| 5155/5155 [00:00<00:00, 396305.53it/s]\n"
     ]
    }
   ],
   "source": [
    "# Paths to data\n",
    "GLOBAL_PATH = \"D:/38-Cloud/\"\n",
    "TRAIN_FOLDER = os.path.join(GLOBAL_PATH, '38-Cloud_training')\n",
    "TEST_FOLDER = os.path.join(GLOBAL_PATH, '38-Cloud_test')\n",
    "\n",
    "# Set params\n",
    "in_rows = 192\n",
    "in_cols = 192\n",
    "num_of_channels = 4\n",
    "num_of_classes = 1\n",
    "starting_learning_rate = 1e-4\n",
    "end_learning_rate = 1e-8\n",
    "max_num_epochs = 2000  # just a huge number. The actual training should not be limited by this value\n",
    "val_ratio = 0.2\n",
    "patience = 15\n",
    "decay_factor = 0.7\n",
    "batch_sz = 12\n",
    "max_bit = 65535  # maximum gray level in landsat 8 images\n",
    "experiment_name = \"Cloud-Net\"\n",
    "weights_path = os.path.join(GLOBAL_PATH, experiment_name + '.h5')\n",
    "train_resume = False"
   ]
  },
  {
   "cell_type": "code",
   "execution_count": null,
   "id": "dce7db5e",
   "metadata": {},
   "outputs": [],
   "source": [
    "# Get input/target image names\n",
    "train_patches_csv_name = 'training_patches_38-cloud_nonempty.csv'\n",
    "df_train_img = pd.read_csv(os.path.join(GLOBAL_PATH, train_patches_csv_name))\n",
    "train_img, train_msk = get_input_image_names(df_train_img, TRAIN_FOLDER, if_train=True)"
   ]
  },
  {
   "cell_type": "code",
   "execution_count": null,
   "id": "f926089b",
   "metadata": {},
   "outputs": [],
   "source": [
    "# Split data into training and validation\n",
    "train_img_split, val_img_split, train_msk_split, val_mask_split = train_test_split(train_img, train_msk,\n",
    "                                                                                   test_size=val_ratio,\n",
    "                                                                                   random_state=42, shuffle=True)"
   ]
  },
  {
   "cell_type": "code",
   "execution_count": null,
   "id": "437183e3",
   "metadata": {},
   "outputs": [],
   "source": [
    "# Perform image augmentation\n",
    "def generate_augmented_dataset(train, target, in_rows, in_cols, batch_sz, max_bit):\n",
    "    "
   ]
  }
 ],
 "metadata": {
  "kernelspec": {
   "display_name": "Python 3 (ipykernel)",
   "language": "python",
   "name": "python3"
  },
  "language_info": {
   "codemirror_mode": {
    "name": "ipython",
    "version": 3
   },
   "file_extension": ".py",
   "mimetype": "text/x-python",
   "name": "python",
   "nbconvert_exporter": "python",
   "pygments_lexer": "ipython3",
   "version": "3.9.7"
  }
 },
 "nbformat": 4,
 "nbformat_minor": 5
}
