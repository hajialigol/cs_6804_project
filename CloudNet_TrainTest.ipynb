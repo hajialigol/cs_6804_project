{
 "cells": [
  {
   "cell_type": "code",
   "execution_count": 57,
   "id": "82511ab0",
   "metadata": {},
   "outputs": [],
   "source": [
    "import os\n",
    "import torch\n",
    "import pandas as pd\n",
    "import numpy as np\n",
    "from sklearn.model_selection import train_test_split\n",
    "from skimage.transform import resize\n",
    "from skimage.io import imread\n",
    "from torchvision.io import read_image\n",
    "from torch.utils.data import Dataset\n",
    "from torchvision import datasets\n",
    "from torchvision.transforms import ToTensor\n",
    "from cs_6804_project.src.torch_cloudnet.model import CloudNet\n",
    "from cs_6804_project.src.keras_cloudnet.utils import get_input_image_names\n",
    "from cs_6804_project.src.keras_cloudnet.augmentation import (flipping_img_and_msk, rotate_cclk_img_and_msk,\n",
    "                                                             rotate_clk_img_and_msk, zoom_img_and_msk)"
   ]
  },
  {
   "cell_type": "code",
   "execution_count": 2,
   "id": "88743d3b",
   "metadata": {},
   "outputs": [
    {
     "name": "stderr",
     "output_type": "stream",
     "text": [
      "100%|██████████████████████████████████████████████████████████████████████████| 5155/5155 [00:00<00:00, 396305.53it/s]\n"
     ]
    }
   ],
   "source": [
    "# Paths to data\n",
    "GLOBAL_PATH = \"D:/38-Cloud/\"\n",
    "TRAIN_FOLDER = os.path.join(GLOBAL_PATH, '38-Cloud_training')\n",
    "TEST_FOLDER = os.path.join(GLOBAL_PATH, '38-Cloud_test')\n",
    "\n",
    "# Set params\n",
    "in_rows = 192\n",
    "in_cols = 192\n",
    "num_of_channels = 4\n",
    "num_of_classes = 1\n",
    "starting_learning_rate = 1e-4\n",
    "end_learning_rate = 1e-8\n",
    "max_num_epochs = 2000  # just a huge number. The actual training should not be limited by this value\n",
    "val_ratio = 0.2\n",
    "patience = 15\n",
    "decay_factor = 0.7\n",
    "batch_sz = 12\n",
    "max_bit = 65535  # maximum gray level in landsat 8 images\n",
    "experiment_name = \"Cloud-Net\"\n",
    "weights_path = os.path.join(GLOBAL_PATH, experiment_name + '.h5')\n",
    "train_resume = False"
   ]
  },
  {
   "cell_type": "code",
   "execution_count": null,
   "id": "7bc12b40",
   "metadata": {},
   "outputs": [],
   "source": [
    "# Get input/target image names\n",
    "train_patches_csv_name = 'training_patches_38-cloud_nonempty.csv'\n",
    "df_train_img = pd.read_csv(os.path.join(GLOBAL_PATH, train_patches_csv_name))\n",
    "train_img, train_msk = get_input_image_names(df_train_img, TRAIN_FOLDER, if_train=True)"
   ]
  },
  {
   "cell_type": "code",
   "execution_count": null,
   "id": "958ea64b",
   "metadata": {},
   "outputs": [],
   "source": [
    "# Split data into training and validation\n",
    "train_img_split, val_img_split, train_msk_split, val_mask_split = train_test_split(train_img, train_msk,\n",
    "                                                                                   test_size=val_ratio,\n",
    "                                                                                   random_state=42, shuffle=True)"
   ]
  },
  {
   "cell_type": "code",
   "execution_count": null,
   "id": "b7efe4f2",
   "metadata": {},
   "outputs": [],
   "source": [
    "class CloudDataset(Dataset):\n",
    "    def __init__(self, train_files, target_files, img_rows, img_cols, max_bit, transform=False):\n",
    "        self.train_files = train_files\n",
    "        self.target_files = target_files\n",
    "        self.img_rows = img_rows\n",
    "        self.img_cols = img_cols\n",
    "        self.max_bit = max_bit\n",
    "        self.transform = transform\n",
    "\n",
    "    def __len__(self):\n",
    "        return len(self.target_files)\n",
    "\n",
    "    def __getitem__(self, idx):\n",
    "        # Get input images\n",
    "        image_red = imread(self.train_files[idx][0])\n",
    "        image_green = imread(self.train_files[idx][1])\n",
    "        image_blue = imread(self.train_files[idx][2])\n",
    "        image_nir = imread(self.train_files[idx][3])\n",
    "        images = np.stack((r, g, b, nir),axis=-1).astype('int32')\n",
    "        images = resize(images, (self.img_rows, self.img_cols), preserve_range=True, mode='symmetric')\n",
    "        # Get target image\n",
    "        target = imread(self.target_files[idx])\n",
    "        target = resize(target, (self.img_rows, self.img_cols), preserve_range=True, mode='symmetric')\n",
    "        \n",
    "        # Perform image augmentation\n",
    "        if self.transform:\n",
    "            images, target = self.transform(images)\n",
    "        \n",
    "        images = ToTensor()(images)\n",
    "        target = ToTensor()(target)\n",
    "        return images, target\n",
    "    \n",
    "    def transform(self, images, target):\n",
    "        rnd_flip = np.random.randint(2, dtype=int)\n",
    "        rnd_rotate_clk = np.random.randint(2, dtype=int)\n",
    "        rnd_rotate_cclk = np.random.randint(2, dtype=int)\n",
    "        rnd_zoom = np.random.randint(2, dtype=int)\n",
    "\n",
    "        if rnd_flip == 1:\n",
    "            images, mask = flipping_img_and_msk(images, mask)\n",
    "\n",
    "        if rnd_rotate_clk == 1:\n",
    "            images, mask = rotate_clk_img_and_msk(images, mask)\n",
    "\n",
    "        if rnd_rotate_cclk == 1:\n",
    "            images, mask = rotate_cclk_img_and_msk(images, mask)\n",
    "\n",
    "        if rnd_zoom == 1:\n",
    "            images, mask = zoom_img_and_msk(images, mask)\n",
    "\n",
    "        mask = mask[..., np.newaxis]\n",
    "        mask /= 255\n",
    "        images /= max_possible_input_value\n",
    "        return images, target"
   ]
  },
  {
   "cell_type": "code",
   "execution_count": null,
   "id": "a9793e27",
   "metadata": {},
   "outputs": [],
   "source": []
  }
 ],
 "metadata": {
  "kernelspec": {
   "display_name": "Python 3 (ipykernel)",
   "language": "python",
   "name": "python3"
  },
  "language_info": {
   "codemirror_mode": {
    "name": "ipython",
    "version": 3
   },
   "file_extension": ".py",
   "mimetype": "text/x-python",
   "name": "python",
   "nbconvert_exporter": "python",
   "pygments_lexer": "ipython3",
   "version": "3.9.7"
  }
 },
 "nbformat": 4,
 "nbformat_minor": 5
}
